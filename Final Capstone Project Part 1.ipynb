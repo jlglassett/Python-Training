{
 "cells": [
  {
   "cell_type": "markdown",
   "metadata": {},
   "source": [
    "# Final Capstone Project: Part 1"
   ]
  },
  {
   "cell_type": "markdown",
   "metadata": {},
   "source": [
    "## Day Project: Prime factoization"
   ]
  },
  {
   "cell_type": "markdown",
   "metadata": {},
   "source": [
    "Code should take any number and find all the prime numebrs that divide it."
   ]
  },
  {
   "cell_type": "markdown",
   "metadata": {},
   "source": [
    "Bonus: gets complete prime facorization, including multiples (i.e. 24=2 * 2 * 2 * 3)"
   ]
  },
  {
   "cell_type": "markdown",
   "metadata": {},
   "source": [
    "Extra bonus: writing in terms of powers?"
   ]
  },
  {
   "cell_type": "markdown",
   "metadata": {},
   "source": [
    "Step 1: define function that termines is a number is prime"
   ]
  },
  {
   "cell_type": "code",
   "execution_count": 4,
   "metadata": {},
   "outputs": [],
   "source": [
    "def is_prime(n):\n",
    "    if n<=1 or not float(n).is_integer():\n",
    "        return False\n",
    "    for p in range(2,n-1):\n",
    "        #print(n%p)\n",
    "        if n%p==0:\n",
    "            return False\n",
    "    return True"
   ]
  },
  {
   "cell_type": "markdown",
   "metadata": {},
   "source": [
    "Test:"
   ]
  },
  {
   "cell_type": "code",
   "execution_count": 86,
   "metadata": {},
   "outputs": [
    {
     "name": "stdout",
     "output_type": "stream",
     "text": [
      "2\n",
      "3\n",
      "5\n",
      "7\n",
      "False False False\n"
     ]
    }
   ],
   "source": [
    "for n in range(10):\n",
    "    if is_prime(n):\n",
    "        print(n)\n",
    "        \n",
    "print(is_prime(1),is_prime(-2), is_prime(1.2))"
   ]
  },
  {
   "cell_type": "markdown",
   "metadata": {},
   "source": [
    "Step 3: Generatie factors of a number"
   ]
  },
  {
   "cell_type": "code",
   "execution_count": 92,
   "metadata": {},
   "outputs": [],
   "source": [
    "def factors(n):\n",
    "    #exit if n is not an int\n",
    "    results=[]\n",
    "    for x in range(1,n+1):\n",
    "        if n%x==0:\n",
    "            results.append(x) \n",
    "    return results"
   ]
  },
  {
   "cell_type": "code",
   "execution_count": 94,
   "metadata": {},
   "outputs": [
    {
     "data": {
      "text/plain": [
       "[1, 2, 4, 5, 10, 20]"
      ]
     },
     "execution_count": 94,
     "metadata": {},
     "output_type": "execute_result"
    }
   ],
   "source": [
    "factors(20)"
   ]
  },
  {
   "cell_type": "markdown",
   "metadata": {},
   "source": [
    "Step 4. Generate all factors of n"
   ]
  },
  {
   "cell_type": "code",
   "execution_count": 95,
   "metadata": {},
   "outputs": [],
   "source": [
    "def prime_factors(n):\n",
    "    #exit if n is not an int\n",
    "    results=[]\n",
    "    for x in factors(n):\n",
    "        if is_prime(x):\n",
    "            results.append(x) \n",
    "    return results"
   ]
  },
  {
   "cell_type": "code",
   "execution_count": 96,
   "metadata": {},
   "outputs": [
    {
     "data": {
      "text/plain": [
       "[2, 5]"
      ]
     },
     "execution_count": 96,
     "metadata": {},
     "output_type": "execute_result"
    }
   ],
   "source": [
    "prime_factors(20)"
   ]
  },
  {
   "cell_type": "markdown",
   "metadata": {},
   "source": [
    "Step 5. prime factorization"
   ]
  },
  {
   "cell_type": "code",
   "execution_count": 119,
   "metadata": {},
   "outputs": [],
   "source": [
    "def prime_facotrization(n):\n",
    "    results=[]\n",
    "    if is_prime(n):\n",
    "        results.append(n)\n",
    "    while n>1:\n",
    "        results.append(prime_factors(n)[0])\n",
    "        n=int(n/prime_factors(n)[0])\n",
    "    return results"
   ]
  },
  {
   "cell_type": "code",
   "execution_count": 120,
   "metadata": {},
   "outputs": [
    {
     "name": "stdout",
     "output_type": "stream",
     "text": [
      "[2, 2, 5, 5]\n"
     ]
    }
   ],
   "source": [
    "print(prime_facotrization(100))"
   ]
  },
  {
   "cell_type": "markdown",
   "metadata": {},
   "source": [
    "Expand on this project a bit more.."
   ]
  },
  {
   "cell_type": "markdown",
   "metadata": {},
   "source": [
    "## Extra part: Prime number generator\n",
    "\n",
    "Gives user next prime numbe runtil they don't want any more"
   ]
  },
  {
   "cell_type": "code",
   "execution_count": 12,
   "metadata": {},
   "outputs": [
    {
     "name": "stdout",
     "output_type": "stream",
     "text": [
      "Hello! Welcome to prime numebr generator. I will print the next prime number for as long as you want.\n",
      "When you want me to stop, just answet the question with 'No' or 'quit'\n"
     ]
    },
    {
     "name": "stdin",
     "output_type": "stream",
     "text": [
      "Do you want a list of prime numbers? Answer yes or no: n\n"
     ]
    },
    {
     "name": "stdout",
     "output_type": "stream",
     "text": [
      "Good-bye\n"
     ]
    }
   ],
   "source": [
    "print(\"Hello! Welcome to prime numebr generator. I will print the next prime number for as long as you want.\")\n",
    "print('When you want me to stop, just answet the question with \\'No\\' or \\'quit\\'')\n",
    "\n",
    "#Ask user if they want a list of prime numbers\n",
    "prime_list=input('Do you want a list of prime numbers? Answer yes or no:')\n",
    "n=0\n",
    "while prime_list.lower()[0]=='y':\n",
    "    n+=1\n",
    "    if is_prime(n):\n",
    "        print(n)\n",
    "        prime_list=input('Do you want another prime number?: ')\n",
    "    else:\n",
    "        continue\n",
    "\n",
    "if prime_list.lower()[0]=='n':\n",
    "    print('Good-bye')\n",
    "    \n",
    "####could add try-except to catch more with user input\n",
    "#### could make this a function as well"
   ]
  },
  {
   "cell_type": "code",
   "execution_count": null,
   "metadata": {},
   "outputs": [],
   "source": []
  }
 ],
 "metadata": {
  "kernelspec": {
   "display_name": "Python 3",
   "language": "python",
   "name": "python3"
  },
  "language_info": {
   "codemirror_mode": {
    "name": "ipython",
    "version": 3
   },
   "file_extension": ".py",
   "mimetype": "text/x-python",
   "name": "python",
   "nbconvert_exporter": "python",
   "pygments_lexer": "ipython3",
   "version": "3.7.6"
  }
 },
 "nbformat": 4,
 "nbformat_minor": 4
}
