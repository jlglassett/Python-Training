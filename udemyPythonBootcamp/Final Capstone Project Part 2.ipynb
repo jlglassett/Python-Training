{
 "cells": [
  {
   "cell_type": "markdown",
   "metadata": {},
   "source": [
    "# Final Capstone Project: Part 2\n",
    "## Longer Project: Credit Card Validation\n"
   ]
  },
  {
   "cell_type": "markdown",
   "metadata": {},
   "source": [
    "Notes: \n",
    "checksum: last digit in credit card\n",
    "list each digit, stating with the digist left of the checksum, going to the left\n",
    "If cc has 16 digits, double any digit in an odd position\n",
    "For 15 digits, same idea but on even spots\n",
    "if new digit >10, add digits together\n",
    "Total list of number, excluding checksum\n",
    "if sum mod 10=0, valid\n",
    "\n",
    "\n",
    "\n",
    "\n",
    "Things I want to do:\n",
    "\n",
    "-create user input version first, then maybe a file-reading version\n",
    "\n",
    "-return table with number, issuer(maybe?) and Valid/Invalid (Base on True or False)"
   ]
  },
  {
   "cell_type": "markdown",
   "metadata": {},
   "source": [
    "Function to add digits in number"
   ]
  },
  {
   "cell_type": "code",
   "execution_count": 1,
   "metadata": {},
   "outputs": [],
   "source": [
    "def add_digits(num):\n",
    "    ''' takes a number bigger and adds the digits in number together'''\n",
    "    num_string=str(num)\n",
    "    num_list=[]\n",
    "    for n in num_string:\n",
    "        num_list.append(int(n))\n",
    "    return sum(num_list)\n",
    "    "
   ]
  },
  {
   "cell_type": "markdown",
   "metadata": {},
   "source": [
    "Check first number to make sure its goes with a common creidt card vendor"
   ]
  },
  {
   "cell_type": "code",
   "execution_count": 32,
   "metadata": {},
   "outputs": [],
   "source": [
    "def issuer_check(cc):\n",
    "    '''Checks that card number goes with Visa, Mastercard, etc.'''\n",
    "    #Assumes cc is a list of numbers\n",
    "    \n",
    "    #Check this list below with other sites\n",
    "    ## Visa starts with 4\n",
    "    ## MasterCard starts with 51-55\n",
    "    ## Discover starts with 6011, 644, 65 ? (Other sites jsut say starts with 6 or 6011...)\n",
    "    ## American Express starts with 34, 37\n",
    "    \n",
    "    ### may change this to return issuer?\n",
    "    \n",
    "    #Includ length > 13, less than 19. \n",
    "    if len(cc)>=13 and len(cc)<=19:\n",
    "        if ((cc[0]==4) or (cc[0:2] in (range(51,56))) or (cc[0]==6 and (cc[0:4]==6011 or cc[1:3]==44 or c[1]==5)) or (cc[0:2] in [34,37])):\n",
    "            return True"
   ]
  },
  {
   "cell_type": "markdown",
   "metadata": {},
   "source": [
    "Credit Card Validation Function"
   ]
  },
  {
   "cell_type": "code",
   "execution_count": 28,
   "metadata": {},
   "outputs": [],
   "source": [
    "def main(cc):\n",
    "    #check cc comes from a valid vendor\n",
    "    #cc must be a list of numbers\n",
    "    if  (not issuer_check(cc)):\n",
    "        return False\n",
    "    #Pop off checksum\n",
    "    checksum=cc.pop()\n",
    "    #Reverse odder\n",
    "    cc_rev=cc[::-1]\n",
    "    #double apporpriate digits\n",
    "    #if bigger than 10, add digits in number\n",
    "    for i in range(0,len(cc_rev),2):\n",
    "        cc_rev[i]*=2\n",
    "        if cc_rev[i]>=10:\n",
    "            cc_rev[i]=add_digits(cc_rev[i])\n",
    "    if (sum(cc_rev)+checksum)%10==0:\n",
    "        return True\n",
    "    else:\n",
    "        return False\n",
    "        \n",
    "    "
   ]
  },
  {
   "cell_type": "code",
   "execution_count": 187,
   "metadata": {
    "jupyter": {
     "source_hidden": true
    }
   },
   "outputs": [
    {
     "name": "stdout",
     "output_type": "stream",
     "text": [
      "True\n"
     ]
    }
   ],
   "source": [
    "num=[4,4,1,7,1,2,3,4,5,6,7,8,9,1,1,3]\n",
    "checksum=num.pop()\n",
    "num_rev=num[::-1]\n",
    "for i in range(0,len(num_rev),2):\n",
    "    #print(i)\n",
    "    num_rev[i]*=2\n",
    "    if num_rev[i]>=10:\n",
    "        num_rev[i]=add_digits(num_rev[i])\n",
    "if (sum(num_rev)+checksum)%10==0:\n",
    "    print('True')\n",
    "\n"
   ]
  },
  {
   "cell_type": "markdown",
   "metadata": {},
   "source": [
    "Running code with user input"
   ]
  },
  {
   "cell_type": "code",
   "execution_count": 29,
   "metadata": {},
   "outputs": [
    {
     "name": "stdin",
     "output_type": "stream",
     "text": [
      "Enter Credit Card Number:  2221008682291788\n"
     ]
    }
   ],
   "source": [
    "cc_num=input('Enter Credit Card Number: ')"
   ]
  },
  {
   "cell_type": "code",
   "execution_count": 30,
   "metadata": {},
   "outputs": [],
   "source": [
    "cc=[int(n) for n in cc_num]"
   ]
  },
  {
   "cell_type": "code",
   "execution_count": 165,
   "metadata": {
    "collapsed": true,
    "jupyter": {
     "outputs_hidden": true,
     "source_hidden": true
    }
   },
   "outputs": [
    {
     "name": "stdout",
     "output_type": "stream",
     "text": [
      "[4, 4, 1, 7, 1, 2, 3, 4, 5, 6, 7, 8, 9, 1, 1, 3]\n"
     ]
    }
   ],
   "source": [
    "print(cc)"
   ]
  },
  {
   "cell_type": "code",
   "execution_count": 175,
   "metadata": {
    "jupyter": {
     "source_hidden": true
    }
   },
   "outputs": [],
   "source": [
    "if (not issuer_check(cc)): \n",
    "    print('Test')"
   ]
  },
  {
   "cell_type": "code",
   "execution_count": 31,
   "metadata": {},
   "outputs": [
    {
     "data": {
      "text/plain": [
       "False"
      ]
     },
     "execution_count": 31,
     "metadata": {},
     "output_type": "execute_result"
    }
   ],
   "source": [
    "main(cc)"
   ]
  },
  {
   "cell_type": "code",
   "execution_count": null,
   "metadata": {},
   "outputs": [],
   "source": []
  }
 ],
 "metadata": {
  "kernelspec": {
   "display_name": "Python 3",
   "language": "python",
   "name": "python3"
  },
  "language_info": {
   "codemirror_mode": {
    "name": "ipython",
    "version": 3
   },
   "file_extension": ".py",
   "mimetype": "text/x-python",
   "name": "python",
   "nbconvert_exporter": "python",
   "pygments_lexer": "ipython3",
   "version": "3.7.6"
  }
 },
 "nbformat": 4,
 "nbformat_minor": 4
}
